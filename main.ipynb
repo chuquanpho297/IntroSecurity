{
 "cells": [
  {
   "cell_type": "code",
   "execution_count": 17,
   "metadata": {},
   "outputs": [],
   "source": [
    "from aes import AES\n",
    "from PIL import Image\n",
    "import os\n",
    "import random\n",
    "from math import log, floor\n",
    "import uuid"
   ]
  },
  {
   "cell_type": "code",
   "execution_count": 18,
   "metadata": {},
   "outputs": [
    {
     "name": "stdout",
     "output_type": "stream",
     "text": [
      "key: b'\\xa2H\\xda1\\xf0.\\xa2\\x802\\x88\\xc99/\\xfe>|'\n",
      "iv: b'\\x1f\\x15\\xdfD\\x84\\xb3K\\x85\\xa9Z\\x1aF\\xbe\\x85\\x1d1'\n"
     ]
    }
   ],
   "source": [
    "key = os.urandom(16)\n",
    "print(f\"key: {key}\")\n",
    "iv = os.urandom(16)\n",
    "print(f\"iv: {iv}\")"
   ]
  },
  {
   "cell_type": "code",
   "execution_count": 19,
   "metadata": {},
   "outputs": [],
   "source": [
    "def create_rgb_arrays(height, width, pixel_data):\n",
    "    r_arr = []\n",
    "    g_arr = []\n",
    "    b_arr = []\n",
    "    for y in range(height):\n",
    "        for x in range(width):\n",
    "            r,g,b = pixel_data[x,y]\n",
    "            r_arr.append(r)\n",
    "            g_arr.append(g)\n",
    "            b_arr.append(b)\n",
    "    return r_arr, g_arr, b_arr\n",
    "\n",
    "def encrypt_array(arr, key, iv,mode: int):\n",
    "    bytes_arr = bytearray(arr)\n",
    "    encrypted_bytes:bytes = b\"\"\n",
    "    if mode == 1:\n",
    "        encrypted_bytes = AES(key).encrypt_cbc(bytes_arr,iv)\n",
    "    elif mode == 2:\n",
    "        encrypted_bytes = AES(key).encrypt_pcbc(bytes_arr,iv)\n",
    "    elif mode == 3:\n",
    "        encrypted_bytes = AES(key).encrypt_cfb(bytes_arr,iv)\n",
    "    elif mode == 4:\n",
    "        encrypted_bytes = AES(key).encrypt_ofb(bytes_arr,iv)\n",
    "    elif mode == 0:\n",
    "        encrypted_bytes = AES(key).encrypt(bytes_arr)\n",
    "\n",
    "    return encrypted_bytes\n",
    "\n",
    "def create_rgb_encrypted_img(path:str,key:bytes,iv:bytes,mode:int):\n",
    "    im = Image.open(path)\n",
    "    pixel_data = im.load()\n",
    "\n",
    "    width, height = im.size\n",
    "    print(f\"width: {width}, height: {height}\")    \n",
    "    r_arr, g_arr, b_arr = create_rgb_arrays(height, width, pixel_data)\n",
    "\n",
    "    r_encrypted = encrypt_array(r_arr, key, iv,mode)\n",
    "    g_encrypted = encrypt_array(g_arr, key, iv,mode)\n",
    "    b_encrypted = encrypt_array(b_arr, key, iv,mode)\n",
    "\n",
    "    print(\"encrypted bytes len: \", r_encrypted.__len__())\n",
    "    print(\"plain bytes len: \",r_arr.__len__())\n",
    "    print(\"needed width: \", width - (r_encrypted.__len__() - r_arr.__len__()))\n",
    "    \n",
    "    need_width = width - (r_encrypted.__len__() - r_arr.__len__())\n",
    "    \n",
    "    need_width_exp = floor(log(need_width,255))\n",
    "    need_width_quo = need_width // pow(255,need_width_exp)\n",
    "    need_width_rem = need_width % pow(255,need_width_exp)\n",
    "\n",
    "    print(\"add_pixel: \", (need_width_exp,need_width_quo,need_width_rem))\n",
    "\n",
    "    encrypted_img = Image.new(\"RGB\", (width, height+1))\n",
    "    for y in range(height+1):\n",
    "        for x in range(width):\n",
    "            if x+y*width < r_encrypted.__len__():\n",
    "                encrypted_img.putpixel((x,y), (r_encrypted[x+y*width],g_encrypted[x+y*width],b_encrypted[x+y*width]))\n",
    "            elif  x == width-1 and y == height:\n",
    "                encrypted_img.putpixel((x,y), (need_width_exp,need_width_quo,need_width_rem))\n",
    "            else:\n",
    "                encrypted_img.putpixel((x,y), (random.randint(0,255),random.randint(0,255),random.randint(0,255)))\n",
    "    return encrypted_img"
   ]
  },
  {
   "cell_type": "code",
   "execution_count": 20,
   "metadata": {},
   "outputs": [
    {
     "name": "stdout",
     "output_type": "stream",
     "text": [
      "Select mode of operation:\n",
      "0. No mode of operation\n",
      "1. CBC\n",
      "2. PCBC\n",
      "3. CFB\n",
      "4. OFB\n",
      "encrypt_path: 414f1898-d9ba-42de-8dfa-c4e1f25dd3e8.png\n",
      "width: 586, height: 485\n",
      "encrypted bytes len:  284224\n",
      "plain bytes len:  284210\n",
      "needed width:  572\n",
      "add_pixel:  (1, 2, 62)\n",
      "encrypted image saved\n"
     ]
    }
   ],
   "source": [
    "\n",
    "path = str(input(\"Enter image path: \"))\n",
    "print(\"Select mode of operation:\")\n",
    "print(\"0. No mode of operation\")\n",
    "print(\"1. CBC\")\n",
    "print(\"2. PCBC\")\n",
    "print(\"3. CFB\")\n",
    "print(\"4. OFB\")\n",
    "mode = int(input(\"Enter mode: \"))\n",
    "encrypt_path = str(uuid.uuid4()) + \".png\"\n",
    "print(f\"encrypt_path: {encrypt_path}\")\n",
    "\n",
    "encrypted_img = create_rgb_encrypted_img(path,key,iv,mode)\n",
    "encrypted_img.save(encrypt_path)\n",
    "print(\"encrypted image saved\")\n"
   ]
  },
  {
   "cell_type": "code",
   "execution_count": 21,
   "metadata": {},
   "outputs": [],
   "source": [
    "\n",
    "def decrypt_array(arr, key, iv,mode: int):\n",
    "    bytes_arr = bytearray(arr)\n",
    "    decrypted_bytes:bytes = b\"\"\n",
    "    if mode == 1:\n",
    "        decrypted_bytes = AES(key).decrypt_cbc(bytes_arr,iv)\n",
    "    elif mode == 2:\n",
    "        decrypted_bytes = AES(key).decrypt_pcbc(bytes_arr,iv)\n",
    "    elif mode == 3:\n",
    "        decrypted_bytes = AES(key).decrypt_cfb(bytes_arr,iv)\n",
    "    elif mode == 4:\n",
    "        decrypted_bytes = AES(key).decrypt_ofb(bytes_arr,iv)\n",
    "    elif mode == 0:\n",
    "        decrypted_bytes = AES(key).decrypt(bytes_arr)\n",
    "        \n",
    "    return decrypted_bytes\n",
    "\n",
    "def decrypt_encrypted_img(path:str, key:bytes, iv:bytes,mode:int):\n",
    "    encrypted_img = Image.open(path)\n",
    "    width,height = encrypted_img.size\n",
    "    print(f\"width: {width} height: {height}\")\n",
    "    pixel_data = encrypted_img.load()\n",
    "    need_width_exp,need_width_quo,need_width_rem = pixel_data[width-1,height-1]\n",
    "    print(f\"need_width_exp: {need_width_exp}, need_width_quo: {need_width_quo}, need_width_rem: {need_width_rem}\")\n",
    "    need_width = need_width_rem + need_width_quo*pow(255,need_width_exp)\n",
    "    print(\"need_width: \", need_width)\n",
    "\n",
    "    r_encrypted_bytes = []\n",
    "    g_encrypted_bytes = []\n",
    "    b_encrypted_bytes = []\n",
    "\n",
    "    for y in range(height):\n",
    "        for x in range(width):\n",
    "            r,g,b = pixel_data[x,y]\n",
    "            if x+y*width < width*height - need_width:\n",
    "                r_encrypted_bytes.append(r)\n",
    "                g_encrypted_bytes.append(g)\n",
    "                b_encrypted_bytes.append(b)\n",
    "            else:\n",
    "                break\n",
    "    \n",
    "    r_decrypted_bytes = decrypt_array(r_encrypted_bytes, key, iv,mode)\n",
    "    g_decrypted_bytes = decrypt_array(g_encrypted_bytes, key, iv,mode)\n",
    "    b_decrypted_bytes = decrypt_array(b_encrypted_bytes, key, iv,mode)\n",
    "\n",
    "    decrypt_width = width\n",
    "    decrypt_height = height - 1 if need_width > 0 else height\n",
    "    decrypted_img = Image.new(\"RGB\", (decrypt_width, decrypt_height))\n",
    "\n",
    "    for y in range(decrypt_height):\n",
    "        for x in range(decrypt_width):\n",
    "            decrypted_img.putpixel((x,y),(r_decrypted_bytes[x+y*width],g_decrypted_bytes[x+y*width],b_decrypted_bytes[x+y*width]))\n",
    "            \n",
    "    return decrypted_img\n"
   ]
  },
  {
   "cell_type": "code",
   "execution_count": 23,
   "metadata": {},
   "outputs": [
    {
     "name": "stdout",
     "output_type": "stream",
     "text": [
      "decrypt_path: 414f1898-d9ba-42de-8dfa-c4e1f25dd3e8_decrypted.png\n",
      "Select mode of operation:\n",
      "0. No mode of operation\n",
      "1. CBC\n",
      "2. PCBC\n",
      "3. CFB\n",
      "4. OFB\n",
      "width: 586 height: 486\n",
      "need_width_exp: 1, need_width_quo: 2, need_width_rem: 62\n",
      "need_width:  572\n",
      "decrypted image saved\n"
     ]
    }
   ],
   "source": [
    "\n",
    "encrypt_path = str(input(\"Enter encrypted image path: \"))\n",
    "encrypt_path_name = ''.join(encrypt_path.split('.png'))\n",
    "\n",
    "decrypt_path = f\"{encrypt_path_name}_decrypted.png\"\n",
    "print(f\"decrypt_path: {decrypt_path}\")\n",
    "\n",
    "print(\"Select mode of operation:\")\n",
    "print(\"0. No mode of operation\")\n",
    "print(\"1. CBC\")\n",
    "print(\"2. PCBC\")\n",
    "print(\"3. CFB\")\n",
    "print(\"4. OFB\")\n",
    "mode = int(input(\"Enter mode: \"))\n",
    "\n",
    "decrypted_img = decrypt_encrypted_img(encrypt_path,key,iv,mode)\n",
    "decrypted_img.save(decrypt_path)\n",
    "print(\"decrypted image saved\")\n"
   ]
  }
 ],
 "metadata": {
  "kernelspec": {
   "display_name": "Python 3",
   "language": "python",
   "name": "python3"
  },
  "language_info": {
   "codemirror_mode": {
    "name": "ipython",
    "version": 3
   },
   "file_extension": ".py",
   "mimetype": "text/x-python",
   "name": "python",
   "nbconvert_exporter": "python",
   "pygments_lexer": "ipython3",
   "version": "3.11.6"
  }
 },
 "nbformat": 4,
 "nbformat_minor": 2
}
